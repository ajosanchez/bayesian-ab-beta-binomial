{
  "nbformat": 4,
  "nbformat_minor": 0,
  "metadata": {
    "colab": {
      "name": "Bayesian A/B Testing (Beta-Binomial).ipynb",
      "provenance": [],
      "collapsed_sections": []
    },
    "kernelspec": {
      "name": "python3",
      "display_name": "Python 3"
    },
    "language_info": {
      "name": "python"
    }
  },
  "cells": [
    {
      "cell_type": "markdown",
      "source": [
        "# Bayesian A/B Testing (Beta-Binomial)\n",
        "\n",
        "The point of the exercise is to measure the uncertainty of two hidden parameters for a binomial distribution and place a probability that one parameter is larger than another given some randomly generated data from each parameter. This uses \"grid estimation\" to calculate the posterior distribution and joint probability distribution."
      ],
      "metadata": {
        "id": "ATXYyE96aHIt"
      }
    },
    {
      "cell_type": "code",
      "source": [
        "import numpy as np\n",
        "import pandas as pd\n",
        "import scipy.stats as stats"
      ],
      "metadata": {
        "id": "krrbZtyYk_-y"
      },
      "execution_count": 2,
      "outputs": []
    },
    {
      "cell_type": "markdown",
      "source": [
        "### Create the data\n",
        "Randomly choose a parameter value for a binomial distribution and randomly make a second paramrter value which is close by. Then use those two paramters to generate some data from a Binomial distribution."
      ],
      "metadata": {
        "id": "x0Z02wWma_bi"
      }
    },
    {
      "cell_type": "code",
      "source": [
        "parameter_a = np.random.uniform(low=0, high=.80)\n",
        "parameter_b = parameter_a + np.random.normal(0,.10,1)[0]"
      ],
      "metadata": {
        "id": "e5FWjravpc9F"
      },
      "execution_count": 4,
      "outputs": []
    },
    {
      "cell_type": "code",
      "source": [
        "n = 50\n",
        "experiment_a = stats.binom.rvs(n=n, p=parameter_a)\n",
        "experiment_b = stats.binom.rvs(n=n, p=parameter_b)"
      ],
      "metadata": {
        "id": "PoHpaQHdkLEg"
      },
      "execution_count": 8,
      "outputs": []
    },
    {
      "cell_type": "markdown",
      "source": [
        "### Calculate the posterior distribution for each experiment"
      ],
      "metadata": {
        "id": "MJbnkN07etlL"
      }
    },
    {
      "cell_type": "code",
      "source": [
        "alpha_prior = 1\n",
        "beta_prior = 1"
      ],
      "metadata": {
        "id": "ZW39rTiNb8rZ"
      },
      "execution_count": 23,
      "outputs": []
    },
    {
      "cell_type": "code",
      "source": [
        "params = np.linspace(0,1,1001)\n",
        "\n",
        "posterior_a = stats.beta.pdf(\n",
        "    x = params, \n",
        "    a = experiment_a + alpha_prior, \n",
        "    b = n - experiment_a + beta_prior\n",
        ")\n",
        "posterior_a = pd.Series(posterior_a, index=params, name='exp_a')\n",
        "posterior_a = posterior_a / posterior_a.sum()\n",
        "\n",
        "posterior_b = stats.beta.pdf(\n",
        "    x = params, \n",
        "    a = experiment_b + alpha_prior, \n",
        "    b = n - experiment_b + beta_prior\n",
        ")\n",
        "posterior_b = pd.Series(posterior_b, index=params, name='exp_b')\n",
        "posterior_b = posterior_b / posterior_b.sum()"
      ],
      "metadata": {
        "id": "lwLAY48_cLoo"
      },
      "execution_count": 10,
      "outputs": []
    },
    {
      "cell_type": "code",
      "source": [
        "title = 'Posterior Distributions for A and B'\n",
        "xlabel = 'Success Rate'\n",
        "ylabel = 'Likelihood'\n",
        "posterior_a.plot(legend=True, title=title, xlabel=xlabel, ylabel=ylabel)\n",
        "posterior_b.plot(legend=True);"
      ],
      "metadata": {
        "colab": {
          "base_uri": "https://localhost:8080/",
          "height": 295
        },
        "id": "F4OfgVbdXHSS",
        "outputId": "52e2c1cc-bf70-4478-cdc4-38714e02fcdf"
      },
      "execution_count": 26,
      "outputs": [
        {
          "output_type": "display_data",
          "data": {
            "text/plain": [
              "<Figure size 432x288 with 1 Axes>"
            ],
            "image/png": "[encoded data removed]"
          },
          "metadata": {
            "needs_background": "light"
          }
        }
      ]
    },
    {
      "cell_type": "markdown",
      "source": [
        "### Calculate the probability that parameter A > parameter B"
      ],
      "metadata": {
        "id": "VOGqhFbpe6Mh"
      }
    },
    {
      "cell_type": "code",
      "source": [
        "a_expanded = pd.DataFrame( [list(posterior_a)] * n )\n",
        "b_expanded = pd.DataFrame( [list(posterior_b)] * n )"
      ],
      "metadata": {
        "id": "HTkIHwnfnNv3"
      },
      "execution_count": 12,
      "outputs": []
    },
    {
      "cell_type": "code",
      "source": [
        "joint_probability = a_expanded * b_expanded.T\n",
        "joint_probability = joint_probability / joint_probability.sum().sum()"
      ],
      "metadata": {
        "id": "ePz8wgDftcog"
      },
      "execution_count": 13,
      "outputs": []
    },
    {
      "cell_type": "code",
      "source": [
        "params_A, params_B = np.meshgrid(np.linspace(0,1,1001), np.linspace(0,1,1001))\n",
        "a_gt_b_mask = np.zeros(shape=params_A.shape)\n",
        "a_gt_b_mask[np.where(params_A > params_B)] = 1.0"
      ],
      "metadata": {
        "id": "tTIaBjd7tzbF"
      },
      "execution_count": 14,
      "outputs": []
    },
    {
      "cell_type": "code",
      "source": [
        "p = (a_gt_b_mask * joint_probability).sum().sum()\n",
        "print('Probability that A is better than B:', round(p, 4))"
      ],
      "metadata": {
        "colab": {
          "base_uri": "https://localhost:8080/"
        },
        "id": "CVimmEZ-uzsP",
        "outputId": "71c13f1d-7d55-4017-9fac-34dfb51a8c0f"
      },
      "execution_count": 27,
      "outputs": [
        {
          "output_type": "stream",
          "name": "stdout",
          "text": [
            "Probability that A is better than B: 0.32\n"
          ]
        }
      ]
    },
    {
      "cell_type": "markdown",
      "source": [
        "### Now we can peek at the hidden parameters"
      ],
      "metadata": {
        "id": "kp_y1BQevaDN"
      }
    },
    {
      "cell_type": "code",
      "source": [
        "print('parameter A:', parameter_a)\n",
        "print('parameter B:', parameter_b)"
      ],
      "metadata": {
        "id": "NV1IMhagxDIj",
        "colab": {
          "base_uri": "https://localhost:8080/"
        },
        "outputId": "ffe75fc8-1146-4612-b424-513ea57cf9ce"
      },
      "execution_count": 22,
      "outputs": [
        {
          "output_type": "stream",
          "name": "stdout",
          "text": [
            "parameter A: 0.5652565792031597\n",
            "parameter B: 0.6437944411061326\n"
          ]
        }
      ]
    },
    {
      "cell_type": "code",
      "source": [
        "print('experiment A:', experiment_a) \n",
        "print('experiment B:', experiment_b)"
      ],
      "metadata": {
        "colab": {
          "base_uri": "https://localhost:8080/"
        },
        "id": "UZM1fsw5uJJQ",
        "outputId": "5bc19435-6504-413a-bb75-8f292662e632"
      },
      "execution_count": 21,
      "outputs": [
        {
          "output_type": "stream",
          "name": "stdout",
          "text": [
            "experiment A: 30\n",
            "experiment B: 33\n"
          ]
        }
      ]
    },
    {
      "cell_type": "code",
      "source": [
        ""
      ],
      "metadata": {
        "id": "g0qKTd3rwimE"
      },
      "execution_count": null,
      "outputs": []
    }
  ]
}